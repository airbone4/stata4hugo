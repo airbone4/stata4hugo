{
  "nbformat": 4,
  "nbformat_minor": 2,
  "metadata": {},
  "cells": [
    {
      "cell_type": "raw",
      "execution_count": null,
      "metadata": {
        "language": "yaml",
        "raw": true
      },
      "outputs": [],
      "source": "---\ntitle: \"Test Document\"\nauthor: \"Test User\"\ndate: \"2025-10-17\"\n---\n"
    }
  ]
}
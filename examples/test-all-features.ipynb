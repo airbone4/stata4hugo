{
  "nbformat": 4,
  "nbformat_minor": 2,
  "metadata": {},
  "cells": [
    {
      "cell_type": "raw",
      "execution_count": null,
      "metadata": {
        "language": "yaml",
        "raw": true
      },
      "outputs": [],
      "source": "---\r\ntitle: \"Test Document\"\r\nauthor: \"Test User\"\r\ndate: \"2025-10-17\"\r\n---\n"
    },
    {
      "cell_type": "markdown",
      "metadata": {},
      "source": "# Test Markdown to Notebook Conversion\n\nRegular markdown paragraph.\n\n## Code Cells\n\nR code:\n\n"
    },
    {
      "cell_type": "code",
      "execution_count": null,
      "metadata": {
        "language": "r"
      },
      "outputs": [],
      "source": "x <- rnorm(100)\r\nmean(x)\n"
    },
    {
      "cell_type": "markdown",
      "metadata": {},
      "source": "Stata code:\n\n"
    },
    {
      "cell_type": "code",
      "execution_count": null,
      "metadata": {
        "language": "stata"
      },
      "outputs": [],
      "source": "%%stata\nsysuse auto\r\nsummarize price\n"
    },
    {
      "cell_type": "markdown",
      "metadata": {},
      "source": "R with options:\n\n"
    },
    {
      "cell_type": "code",
      "execution_count": null,
      "metadata": {
        "language": "r",
        "echo": false,
        "fig.height": 4
      },
      "outputs": [],
      "source": "plot(x)\n"
    },
    {
      "cell_type": "markdown",
      "metadata": {},
      "source": "## Lists and Text\n\n - \n - \n\n - \n - \n\n"
    }
  ]
}
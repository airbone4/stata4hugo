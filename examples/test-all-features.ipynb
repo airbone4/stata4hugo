{
  "nbformat": 4,
  "nbformat_minor": 2,
  "metadata": {},
  "cells": [
    {
      "cell_type": "raw",
      "execution_count": null,
      "metadata": {
        "language": "yaml",
        "raw": true
      },
      "outputs": [],
      "source": "---\r\ntitle: \"Test Document\"\r\nauthor: \"Test User\"\r\ndate: \"2025-10-17\"\r\n---\n"
    },
    {
      "cell_type": "markdown",
      "metadata": {},
      "source": "<!--more-->\n\n"
    },
    {
      "cell_type": "code",
      "execution_count": null,
      "metadata": {
        "language": "r",
        "setup": true,
        "echo": false,
        "message": false,
        "results": "hide"
      },
      "outputs": [],
      "source": "library(Statamarkdown)\r\nknitr::opts_chunk$set(cleanlog = F)\n"
    },
    {
      "cell_type": "code",
      "execution_count": null,
      "metadata": {
        "language": "stata",
        "collectcode": "T",
        "echo": false,
        "message": false,
        "results": "hide"
      },
      "outputs": [],
      "source": "%%stata\nadopath + \"..\"\r\nadopath + \"../utils/\"\r\nset linesize 255\n"
    },
    {
      "cell_type": "markdown",
      "metadata": {},
      "source": "## 設定stata\n\n"
    },
    {
      "cell_type": "code",
      "execution_count": null,
      "metadata": {
        "language": "python"
      },
      "outputs": [],
      "source": "import stata_setup,\r\nstata_setup.config(\"C:/Program Files/Stata18/\", \"mp\")\n"
    },
    {
      "cell_type": "markdown",
      "metadata": {},
      "source": "# Test Markdown to Notebook Conversion\n\nRegular markdown paragraph.\n\n## Code Cells\n\nR code:\n\n"
    },
    {
      "cell_type": "code",
      "execution_count": null,
      "metadata": {
        "language": "r"
      },
      "outputs": [],
      "source": "x <- rnorm(100)\r\nmean(x)\n"
    },
    {
      "cell_type": "markdown",
      "metadata": {},
      "source": "Stata code:\n\n"
    },
    {
      "cell_type": "code",
      "execution_count": null,
      "metadata": {
        "language": "stata",
        "echo": false
      },
      "outputs": [],
      "source": "%%stata\nsysuse auto\r\nsummarize price\n"
    },
    {
      "cell_type": "markdown",
      "metadata": {},
      "source": "R with options:\n\n"
    },
    {
      "cell_type": "code",
      "execution_count": null,
      "metadata": {
        "language": "r",
        "echo": false,
        "fig.height": 4
      },
      "outputs": [],
      "source": "plot(x)\n"
    },
    {
      "cell_type": "markdown",
      "metadata": {},
      "source": "## Lists and Text\n\n - \n - \n\n - \n - \n\n"
    }
  ]
}
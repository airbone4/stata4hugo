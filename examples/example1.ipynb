{
  "nbformat": 4,
  "nbformat_minor": 2,
  "metadata": {},
  "cells": [
    {
      "cell_type": "markdown",
      "metadata": {},
      "source": "---\ntitle: \"Example Notebook\"\nauthor: \"Test User\"\noutput: html_document\n---\n\n# Introduction\n\nThis is an example R Markdown document.\n\n"
    },
    {
      "cell_type": "code",
      "execution_count": null,
      "metadata": {
        "language": "r"
      },
      "outputs": [],
      "source": "x <- 1:10\nmean(x)\n"
    },
    {
      "cell_type": "markdown",
      "metadata": {},
      "source": "\nSome more text.\n\n"
    },
    {
      "cell_type": "code",
      "execution_count": null,
      "metadata": {
        "language": "r"
      },
      "outputs": [],
      "source": "plot(x, x^2)\n"
    },
    {
      "cell_type": "markdown",
      "metadata": {},
      "source": "\n- Bullet 1\n- Bullet 2\n\n"
    }
  ]
}
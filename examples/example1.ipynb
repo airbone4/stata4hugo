{
  "nbformat": 4,
  "nbformat_minor": 2,
  "metadata": {},
  "cells": [
    {
      "cell_type": "raw",
      "execution_count": null,
      "metadata": {
        "language": "yaml",
        "raw": true
      },
      "outputs": [],
      "source": "---\r\ntitle: \"Example Notebook\"\r\nauthor: \"Test User\"\r\noutput: html_document\r\n---\n"
    },
    {
      "cell_type": "markdown",
      "metadata": {},
      "source": "# Introduction\n\nThis is an example R Markdown document.\n\n"
    },
    {
      "cell_type": "code",
      "execution_count": null,
      "metadata": {
        "language": "r",
        "echo": true
      },
      "outputs": [],
      "source": "x <- 1:10\r\nmean(x)\n"
    },
    {
      "cell_type": "markdown",
      "metadata": {},
      "source": "Some more text.\n\n"
    },
    {
      "cell_type": "code",
      "execution_count": null,
      "metadata": {
        "language": "r",
        "fig.height": 4,
        "results": "hide"
      },
      "outputs": [],
      "source": "plot(x, x^2)\n"
    },
    {
      "cell_type": "markdown",
      "metadata": {},
      "source": " - \n - \n\n"
    },
    {
      "cell_type": "code",
      "execution_count": null,
      "metadata": {
        "language": "stata",
        "echo": "F",
        "block.pre.class": "ms-5.w-75"
      },
      "outputs": [],
      "source": "%%stata\nsysuse auto\r\nsum\n"
    }
  ]
}